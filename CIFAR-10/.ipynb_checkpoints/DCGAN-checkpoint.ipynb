{
 "cells": [
  {
   "cell_type": "code",
   "execution_count": 1,
   "metadata": {},
   "outputs": [
    {
     "name": "stderr",
     "output_type": "stream",
     "text": [
      "Using TensorFlow backend.\n"
     ]
    }
   ],
   "source": [
    "import os\n",
    "\n",
    "import matplotlib.pyplot as plt\n",
    "import numpy as np\n",
    "\n",
    "from keras import initializers\n",
    "from keras.datasets import cifar10, mnist\n",
    "from keras.initializers import RandomNormal\n",
    "from keras.layers import (BatchNormalization, Conv2D, Conv2DTranspose, Dense,\n",
    "                          Dropout, Flatten, Input, Reshape, UpSampling2D,\n",
    "                          ZeroPadding2D)\n",
    "from keras.layers.advanced_activations import LeakyReLU\n",
    "from keras.models import Model, Sequential\n",
    "from keras.optimizers import Adam\n",
    "\n",
    "%matplotlib inline"
   ]
  },
  {
   "cell_type": "code",
   "execution_count": 2,
   "metadata": {},
   "outputs": [],
   "source": [
    "# For Consistent results\n",
    "np.random.seed(77)\n",
    "\n",
    "# The dimension of z/noise\n",
    "noise_dim = 100\n",
    "\n",
    "batch_size = 16\n",
    "steps_per_epoch = 312 # 50000 / 16\n",
    "epochs = 800\n",
    "\n",
    "save_path = 'dcgan-images'\n",
    "\n",
    "img_rows, img_cols, channels = 32, 32, 3\n",
    "\n",
    "optimizer = Adam(0.0002, 0.5)"
   ]
  },
  {
   "cell_type": "code",
   "execution_count": 3,
   "metadata": {},
   "outputs": [],
   "source": [
    "# Create path for saving images\n",
    "if save_path != None and not os.path.isdir(save_path):\n",
    "    os.mkdir(save_path)"
   ]
  },
  {
   "cell_type": "code",
   "execution_count": 19,
   "metadata": {},
   "outputs": [],
   "source": [
    "# Load data\n",
    "(x_train, y_train), (x_test, y_test) = cifar10.load_data()\n",
    "\n",
    "classes = {0: 'airplane', 1: 'automobile', 2: 'bird', 3: 'cat', 4: 'deer', 5: 'dog', 6: 'frog', 7: 'horse', 8: 'ship', 9: 'truck'}"
   ]
  },
  {
   "cell_type": "code",
   "execution_count": 23,
   "metadata": {},
   "outputs": [],
   "source": [
    "# Normalize to between -1 and 1\n",
    "x_train = (x_train.astype(np.float32) - 127.5) / 127.5\n",
    "\n",
    "# Reshape and only save cat images,i.e. class 3\n",
    "x_train = x_train[np.where(y_train == 3)[0]].reshape((-1, img_rows, img_cols, channels))"
   ]
  },
  {
   "cell_type": "code",
   "execution_count": 25,
   "metadata": {},
   "outputs": [],
   "source": [
    "def create_generator():\n",
    "    generator = Sequential()\n",
    "    \n",
    "    # Starting size\n",
    "    d = 4\n",
    "    generator.add(Dense(d*d*256, kernel_initializer=RandomNormal(0, 0.02), input_dim=noise_dim))\n",
    "    generator.add(LeakyReLU(0.2))\n",
    "    # 4x4x256\n",
    "    generator.add(Reshape((d, d, 256)))\n",
    "    \n",
    "    # 8x8x128\n",
    "    generator.add(Conv2DTranspose(128, (4, 4), strides=2, padding='same', kernel_initializer=RandomNormal(0, 0.02)))\n",
    "    generator.add(LeakyReLU(0.2))\n",
    "    \n",
    "    # 16x16*128\n",
    "    generator.add(Conv2DTranspose(128, (4, 4), strides=2, padding='same', kernel_initializer=RandomNormal(0, 0.02)))\n",
    "    generator.add(LeakyReLU(0.2))\n",
    "    \n",
    "    # 32x32x128\n",
    "    generator.add(Conv2DTranspose(128, (4, 4), strides=2, padding='same', kernel_initializer=RandomNormal(0, 0.02)))\n",
    "    generator.add(LeakyReLU(0.2))\n",
    "    \n",
    "    # 32x32x3\n",
    "    generator.add(Conv2D(channels, (3, 3), padding='same', activation='tanh', kernel_initializer=RandomNormal(0, 0.02)))\n",
    "    \n",
    "    generator.compile(loss='binary_crossentropy', optimizer=optimizer)\n",
    "    return generator"
   ]
  },
  {
   "cell_type": "code",
   "execution_count": 33,
   "metadata": {},
   "outputs": [],
   "source": [
    "def create_discriminator():\n",
    "    discriminator = Sequential()\n",
    "    \n",
    "    discriminator.add(Conv2D(64, (3, 3), padding='same', kernel_initializer=RandomNormal(0, 0.02), input_shape=(img_cols, img_rows, channels)))\n",
    "    discriminator.add(LeakyReLU(0.2))\n",
    "    \n",
    "    discriminator.add(Conv2D(128, (3, 3), strides=2, padding='same', kernel_initializer=RandomNormal(0, 0.02)))\n",
    "    discriminator.add(LeakyReLU(0.2))\n",
    "    \n",
    "    discriminator.add(Conv2D(128, (3, 3), strides=2, padding='same', kernel_initializer=RandomNormal(0, 0.02)))\n",
    "    discriminator.add(LeakyReLU(0.2))\n",
    "    \n",
    "    discriminator.add(Conv2D(256, (3, 3), strides=2, padding='same', kernel_initializer=RandomNormal(0, 0.02)))\n",
    "    discriminator.add(LeakyReLU(0.2))\n",
    "    \n",
    "    discriminator.add(Flatten())\n",
    "    discriminator.add(Dropout(0.4))\n",
    "    discriminator.add(Dense(1, activation='sigmoid'))\n",
    "    \n",
    "    discriminator.compile(loss='binary_crossentropy', optimizer=optimizer)\n",
    "    return discriminator"
   ]
  },
  {
   "cell_type": "code",
   "execution_count": 36,
   "metadata": {},
   "outputs": [],
   "source": [
    "discriminator = create_discriminator()\n",
    "generator = create_generator()\n",
    "\n",
    "# Make the discriminator untrainable when we are training the generator.  \n",
    "# This doesn't effect the discriminator by itself\n",
    "discriminator.trainable = False\n",
    "\n",
    "# Link the two models to create the GAN\n",
    "gan_input = Input(shape=(noise_dim,))\n",
    "fake_image = generator(gan_input)\n",
    "gan_output = discriminator(fake_image)\n",
    "\n",
    "gan = Model(gan_input, gan_output)\n",
    "gan.compile(loss='binary_crossentropy', optimizer=optimizer)"
   ]
  },
  {
   "cell_type": "code",
   "execution_count": 39,
   "metadata": {
    "scrolled": true
   },
   "outputs": [
    {
     "name": "stdout",
     "output_type": "stream",
     "text": [
      "_________________________________________________________________\n",
      "Layer (type)                 Output Shape              Param #   \n",
      "=================================================================\n",
      "conv2d_10 (Conv2D)           (None, 32, 32, 64)        1792      \n",
      "_________________________________________________________________\n",
      "leaky_re_lu_13 (LeakyReLU)   (None, 32, 32, 64)        0         \n",
      "_________________________________________________________________\n",
      "conv2d_11 (Conv2D)           (None, 16, 16, 128)       73856     \n",
      "_________________________________________________________________\n",
      "leaky_re_lu_14 (LeakyReLU)   (None, 16, 16, 128)       0         \n",
      "_________________________________________________________________\n",
      "conv2d_12 (Conv2D)           (None, 8, 8, 128)         147584    \n",
      "_________________________________________________________________\n",
      "leaky_re_lu_15 (LeakyReLU)   (None, 8, 8, 128)         0         \n",
      "_________________________________________________________________\n",
      "conv2d_13 (Conv2D)           (None, 4, 4, 256)         295168    \n",
      "_________________________________________________________________\n",
      "leaky_re_lu_16 (LeakyReLU)   (None, 4, 4, 256)         0         \n",
      "_________________________________________________________________\n",
      "flatten_3 (Flatten)          (None, 4096)              0         \n",
      "_________________________________________________________________\n",
      "dropout_3 (Dropout)          (None, 4096)              0         \n",
      "_________________________________________________________________\n",
      "dense_4 (Dense)              (None, 1)                 4097      \n",
      "=================================================================\n",
      "Total params: 1,044,994\n",
      "Trainable params: 522,497\n",
      "Non-trainable params: 522,497\n",
      "_________________________________________________________________\n",
      "_________________________________________________________________\n",
      "Layer (type)                 Output Shape              Param #   \n",
      "=================================================================\n",
      "dense_5 (Dense)              (None, 4096)              413696    \n",
      "_________________________________________________________________\n",
      "leaky_re_lu_17 (LeakyReLU)   (None, 4096)              0         \n",
      "_________________________________________________________________\n",
      "reshape_2 (Reshape)          (None, 4, 4, 256)         0         \n",
      "_________________________________________________________________\n",
      "conv2d_transpose_4 (Conv2DTr (None, 8, 8, 128)         524416    \n",
      "_________________________________________________________________\n",
      "leaky_re_lu_18 (LeakyReLU)   (None, 8, 8, 128)         0         \n",
      "_________________________________________________________________\n",
      "conv2d_transpose_5 (Conv2DTr (None, 16, 16, 128)       262272    \n",
      "_________________________________________________________________\n",
      "leaky_re_lu_19 (LeakyReLU)   (None, 16, 16, 128)       0         \n",
      "_________________________________________________________________\n",
      "conv2d_transpose_6 (Conv2DTr (None, 32, 32, 128)       262272    \n",
      "_________________________________________________________________\n",
      "leaky_re_lu_20 (LeakyReLU)   (None, 32, 32, 128)       0         \n",
      "_________________________________________________________________\n",
      "conv2d_14 (Conv2D)           (None, 32, 32, 3)         3459      \n",
      "=================================================================\n",
      "Total params: 1,466,115\n",
      "Trainable params: 1,466,115\n",
      "Non-trainable params: 0\n",
      "_________________________________________________________________\n"
     ]
    }
   ],
   "source": [
    "discriminator.summary()\n",
    "generator.summary()"
   ]
  },
  {
   "cell_type": "code",
   "execution_count": 40,
   "metadata": {},
   "outputs": [],
   "source": [
    "# Display images, and save them if the epoch number is specified\n",
    "def show_images(noise, epoch=None):\n",
    "    generated_images = generator.predict(noise)\n",
    "    plt.figure(figsize=(10, 10))\n",
    "    \n",
    "    for i, image in enumerate(generated_images):\n",
    "        plt.subplot(10, 10, i+1)\n",
    "        if channels == 1:\n",
    "            plt.imshow(np.clip(image.reshape((img_rows, img_cols)), 0.0, 1.0), cmap='gray')\n",
    "        else:\n",
    "            plt.imshow(np.clip(image.reshape((img_rows, img_cols, channels)), 0.0, 1.0))\n",
    "        plt.axis('off')\n",
    "    \n",
    "    plt.tight_layout()\n",
    "    \n",
    "    if epoch != None and save_path != None:\n",
    "        plt.savefig(f'{save_path}/gan-images_epoch-{epoch}.png')\n",
    "    plt.show()"
   ]
  },
  {
   "cell_type": "code",
   "execution_count": null,
   "metadata": {},
   "outputs": [],
   "source": [
    "# Constant noise for viewing how the GAN progresses\n",
    "static_noise = np.random.normal(0, 1, size=(100, noise_dim))\n",
    "\n",
    "disc_loss = []\n",
    "gen_loss = []\n",
    "\n",
    "# Training loop\n",
    "for epoch in range(epochs):\n",
    "    for batch in range(steps_per_epoch):\n",
    "        # generate noise/x train data for gan/generator\n",
    "        noise = np.random.normal(0, 1, size=(batch_size, noise_dim))\n",
    "        # fetch real data\n",
    "        real_x = x_train[np.random.randint(0, x_train.shape[0], size=batch_size)]\n",
    "        # generate fake data\n",
    "        fake_x = generator.predict(noise)\n",
    "\n",
    "        # combine fake and real data to generate x_train values for discriminator\n",
    "        x = np.concatenate((real_x, fake_x))\n",
    "\n",
    "        # generate y_train for discriminator by setting 0.9 for real data and 0 for fake data\n",
    "        disc_y = np.zeros(2*batch_size)\n",
    "        disc_y[:batch_size] = 0.9\n",
    "\n",
    "        # train discriminator\n",
    "        d_loss = discriminator.train_on_batch(x, disc_y)\n",
    "\n",
    "        # generate y_train for gan/generator\n",
    "        y_gen = np.ones(batch_size)\n",
    "        \n",
    "        # train gan/generator\n",
    "        g_loss = gan.train_on_batch(noise, y_gen)\n",
    "        \n",
    "    disc_loss.append(d_loss)\n",
    "    gen_loss.append(g_loss)\n",
    "    \n",
    "    print(f'Epoch: {epoch} \\t Discriminator Loss: {d_loss} \\t\\t Generator Loss: {g_loss}')\n",
    "    \n",
    "    if epoch % 25 == 0:\n",
    "        show_images(static_noise, epoch)"
   ]
  },
  {
   "cell_type": "code",
   "execution_count": null,
   "metadata": {},
   "outputs": [],
   "source": [
    "# looking at the loss pattern of generator and discriminator\n",
    "plt.figure(figsize=(50, 4))\n",
    "plt.plot(gen_loss);\n",
    "plt.show()\n",
    "plt.figure(figsize=(50, 4))\n",
    "plt.plot(disc_loss);\n",
    "plt.show()\n",
    "\n",
    "# using discriminator check output of real images and fake images and see what is the output\n",
    "# also plot those real and fake images"
   ]
  },
  {
   "cell_type": "code",
   "execution_count": null,
   "metadata": {},
   "outputs": [],
   "source": [
    "# Turn the training process into a GIF\n",
    "from PIL import Image, ImageDraw\n",
    "\n",
    "image_names = os.listdir(save_path)\n",
    "\n",
    "frames = []\n",
    "for image in sorted(image_names, key=lambda name: int(''.join(i for i in name if i.isdigit()))):\n",
    "    frames.append(Image.open(save_path + '/' + image))\n",
    "\n",
    "frames[0].save('gan_training.gif', format='GIF', append_images=frames[1:], save_all=True, duration=80, loop=0)\n",
    "\n",
    "discriminator.save('dcdiscriminator.h5')\n",
    "generator.save('dcgenerator.h5')"
   ]
  },
  {
   "cell_type": "code",
   "execution_count": 67,
   "metadata": {},
   "outputs": [
    {
     "name": "stdout",
     "output_type": "stream",
     "text": [
      "realdata scores: [[0.49993047]\n",
      " [0.50035775]\n",
      " [0.50038475]\n",
      " [0.5002901 ]\n",
      " [0.50024956]\n",
      " [0.49959806]\n",
      " [0.5000804 ]\n",
      " [0.49917817]\n",
      " [0.49846384]\n",
      " [0.49917927]]\n",
      "average: 0.49977127\n",
      "fakedata scores: [[0.4999982 ]\n",
      " [0.500003  ]\n",
      " [0.50000614]\n",
      " [0.5000009 ]\n",
      " [0.5000068 ]\n",
      " [0.50000376]\n",
      " [0.49999985]\n",
      " [0.5000032 ]\n",
      " [0.5000037 ]\n",
      " [0.5000083 ]]\n",
      "average: 0.5000034\n"
     ]
    },
    {
     "data": {
      "image/png": "[encoded data removed]",
      "text/plain": [
       "<Figure size 720x72 with 10 Axes>"
      ]
     },
     "metadata": {
      "needs_background": "light"
     },
     "output_type": "display_data"
    },
    {
     "data": {
      "image/png": "[encoded data removed]",
      "text/plain": [
       "<Figure size 720x72 with 10 Axes>"
      ]
     },
     "metadata": {
      "needs_background": "light"
     },
     "output_type": "display_data"
    }
   ],
   "source": [
    "# get random numbers from real dataset and predict\n",
    "real_data = x_train[np.random.randint(0, x_train.shape[0], 10)]\n",
    "realdata_scores = discriminator.predict(real_data)\n",
    "print('realdata scores:', realdata_scores)\n",
    "print('average:', np.mean(realdata_scores))\n",
    "\n",
    "noise = np.random.normal(0, 1, size=(10, noise_dim))\n",
    "fake_data = generator.predict(noise)\n",
    "fakedata_scores = discriminator.predict(fake_data)\n",
    "print('fakedata scores:', fakedata_scores)\n",
    "print('average:', np.mean(fakedata_scores))\n",
    "\n",
    "plt.figure(figsize=(10, 1))\n",
    "plt.suptitle('real images', y=0)\n",
    "for i, image in enumerate(real_data):\n",
    "    plt.subplot(1, 10, i+1)\n",
    "    if channels == 1:\n",
    "        plt.imshow(np.clip(image.reshape((img_rows, img_cols)), 0.0, 1.0), cmap='gray')\n",
    "    else:\n",
    "        plt.imshow(np.clip(image.reshape((img_rows, img_cols, channels)), 0.0, 1.0))\n",
    "    plt.axis('off')\n",
    "\n",
    "plt.tight_layout()\n",
    "plt.show()\n",
    "\n",
    "plt.figure(figsize=(10, 1))\n",
    "plt.suptitle('fake images', y=0)\n",
    "for i, image in enumerate(fake_data):\n",
    "    plt.subplot(1, 10, i+1)\n",
    "    if channels == 1:\n",
    "        plt.imshow(np.clip(image.reshape((img_rows, img_cols)), 0.0, 0.1), cmap='gray')\n",
    "    else:\n",
    "        plt.imshow(np.clip(image.reshape((img_rows, img_cols, channels)), 0.0, 0.1))\n",
    "    plt.axis('off')\n",
    "\n",
    "plt.tight_layout()\n"
   ]
  }
 ],
 "metadata": {
  "kernelspec": {
   "display_name": "Python 3",
   "language": "python",
   "name": "python3"
  },
  "language_info": {
   "codemirror_mode": {
    "name": "ipython",
    "version": 3
   },
   "file_extension": ".py",
   "mimetype": "text/x-python",
   "name": "python",
   "nbconvert_exporter": "python",
   "pygments_lexer": "ipython3",
   "version": "3.6.10"
  }
 },
 "nbformat": 4,
 "nbformat_minor": 4
}
